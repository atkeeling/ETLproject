{
 "cells": [
  {
   "cell_type": "code",
   "execution_count": 1,
   "metadata": {},
   "outputs": [],
   "source": [
    "import pandas as pd\n",
    "from bs4 import BeautifulSoup\n",
    "from splinter import Browser"
   ]
  },
  {
   "cell_type": "code",
   "execution_count": 2,
   "metadata": {},
   "outputs": [],
   "source": [
    "executable_path = {'executable_path': 'chromedriver.exe'}\n",
    "browser = Browser('chrome', **executable_path, headless=False)"
   ]
  },
  {
   "cell_type": "code",
   "execution_count": 3,
   "metadata": {},
   "outputs": [],
   "source": [
    "url = \"https://spotifycharts.com/regional/us/weekly/latest\"\n",
    "browser.visit(url)"
   ]
  },
  {
   "cell_type": "code",
   "execution_count": 4,
   "metadata": {},
   "outputs": [
    {
     "data": {
      "text/plain": [
       "[     Unnamed: 0  Unnamed: 1  Unnamed: 2  \\\n",
       " 0           NaN           1         NaN   \n",
       " 1           NaN           2         NaN   \n",
       " 2           NaN           3         NaN   \n",
       " 3           NaN           4         NaN   \n",
       " 4           NaN           5         NaN   \n",
       " 5           NaN           6         NaN   \n",
       " 6           NaN           7         NaN   \n",
       " 7           NaN           8         NaN   \n",
       " 8           NaN           9         NaN   \n",
       " 9           NaN          10         NaN   \n",
       " 10          NaN          11         NaN   \n",
       " 11          NaN          12         NaN   \n",
       " 12          NaN          13         NaN   \n",
       " 13          NaN          14         NaN   \n",
       " 14          NaN          15         NaN   \n",
       " 15          NaN          16         NaN   \n",
       " 16          NaN          17         NaN   \n",
       " 17          NaN          18         NaN   \n",
       " 18          NaN          19         NaN   \n",
       " 19          NaN          20         NaN   \n",
       " 20          NaN          21         NaN   \n",
       " 21          NaN          22         NaN   \n",
       " 22          NaN          23         NaN   \n",
       " 23          NaN          24         NaN   \n",
       " 24          NaN          25         NaN   \n",
       " 25          NaN          26         NaN   \n",
       " 26          NaN          27         NaN   \n",
       " 27          NaN          28         NaN   \n",
       " 28          NaN          29         NaN   \n",
       " 29          NaN          30         NaN   \n",
       " ..          ...         ...         ...   \n",
       " 170         NaN         171         NaN   \n",
       " 171         NaN         172         NaN   \n",
       " 172         NaN         173         NaN   \n",
       " 173         NaN         174         NaN   \n",
       " 174         NaN         175         NaN   \n",
       " 175         NaN         176         NaN   \n",
       " 176         NaN         177         NaN   \n",
       " 177         NaN         178         NaN   \n",
       " 178         NaN         179         NaN   \n",
       " 179         NaN         180         NaN   \n",
       " 180         NaN         181         NaN   \n",
       " 181         NaN         182         NaN   \n",
       " 182         NaN         183         NaN   \n",
       " 183         NaN         184         NaN   \n",
       " 184         NaN         185         NaN   \n",
       " 185         NaN         186         NaN   \n",
       " 186         NaN         187         NaN   \n",
       " 187         NaN         188         NaN   \n",
       " 188         NaN         189         NaN   \n",
       " 189         NaN         190         NaN   \n",
       " 190         NaN         191         NaN   \n",
       " 191         NaN         192         NaN   \n",
       " 192         NaN         193         NaN   \n",
       " 193         NaN         194         NaN   \n",
       " 194         NaN         195         NaN   \n",
       " 195         NaN         196         NaN   \n",
       " 196         NaN         197         NaN   \n",
       " 197         NaN         198         NaN   \n",
       " 198         NaN         199         NaN   \n",
       " 199         NaN         200         NaN   \n",
       " \n",
       "                                                  Track   Streams  \n",
       " 0                 HIGHEST IN THE ROOM  by Travis Scott  20518547  \n",
       " 1     10,000 Hours (with Justin Bieber)  by Dan + Shay  11129577  \n",
       " 2                              Circles  by Post Malone  10046611  \n",
       " 3    Bandit (with YoungBoy Never Broke Again)  by J...   9652455  \n",
       " 4                223's (feat. 9lokknine)  by YNW Melly   7409895  \n",
       " 5                                Truth Hurts  by Lizzo   7065663  \n",
       " 6                        hot girl bummer  by blackbear   6561090  \n",
       " 7                                 Ransom  by Lil Tecca   6331945  \n",
       " 8                  Someone You Loved  by Lewis Capaldi   6105495  \n",
       " 9                               Camelot  by NLE Choppa   6084351  \n",
       " 10                    Hot (feat. Gunna)  by Young Thug   5994683  \n",
       " 11         Goodbyes (Feat. Young Thug)  by Post Malone   5971146  \n",
       " 12           No Guidance (feat. Drake)  by Chris Brown   5914874  \n",
       " 13   Sunflower - Spider-Man: Into the Spider-Verse ...   5807807  \n",
       " 14                                Panini  by Lil Nas X   5689437  \n",
       " 15                        Saint-Tropez  by Post Malone   5655643  \n",
       " 16   Take What You Want (feat. Ozzy Osbourne & Trav...   5563158  \n",
       " 17   Money In The Grave (Drake ft. Rick Ross)  by D...   5498657  \n",
       " 18                                      BOP  by DaBaby   5463340  \n",
       " 19                                    VIBEZ  by DaBaby   5399322  \n",
       " 20              Enemies (feat. DaBaby)  by Post Malone   5139771  \n",
       " 21                           Señorita  by Shawn Mendes   5089857  \n",
       " 22                               Memories  by Maroon 5   4737913  \n",
       " 23                              Good As Hell  by Lizzo   4472027  \n",
       " 24                           bad guy  by Billie Eilish   4444457  \n",
       " 25    Baby (Lil Baby feat. DaBaby)  by Quality Control   4370718  \n",
       " 26                                     Suge  by DaBaby   4333155  \n",
       " 27      Beautiful People (feat. Khalid)  by Ed Sheeran   4297812  \n",
       " 28                     How Do You Sleep?  by Sam Smith   4222131  \n",
       " 29                                Graveyard  by Halsey   4158891  \n",
       " ..                                                 ...       ...  \n",
       " 170                          Be Alright  by Dean Lewis   1588310  \n",
       " 171                  BUTTERFLY EFFECT  by Travis Scott   1587373  \n",
       " 172                 Youngblood  by 5 Seconds of Summer   1585174  \n",
       " 173                                  Nonstop  by Drake   1584797  \n",
       " 174                              Shallow  by Lady Gaga   1584011  \n",
       " 175                              Act Up  by City Girls   1583794  \n",
       " 176                          I Like Me Better  by Lauv   1583339  \n",
       " 177                 High Hopes  by Panic! At The Disco   1579513  \n",
       " 178  GOSPEL (feat. Chance The Rapper, Gucci Mane & ...   1574537  \n",
       " 179         STUPID (feat. Yung Baby Tate)  by Ashnikko   1573197  \n",
       " 180                         The Bones  by Maren Morris   1572916  \n",
       " 181                      Only Human  by Jonas Brothers   1566998  \n",
       " 182             Post Malone (feat. RANI)  by Sam Feldt   1563286  \n",
       " 183             Drunk Dialing...LODT  by Summer Walker   1561953  \n",
       " 184                 Armed And Dangerous  by Juice WRLD   1560018  \n",
       " 185         Ric Flair Drip (& Metro Boomin)  by Offset   1559752  \n",
       " 186                wish you were gay  by Billie Eilish   1556222  \n",
       " 187         Best Part (feat. Daniel Caesar)  by H.E.R.   1554449  \n",
       " 188      Bohemian Rhapsody - Remastered 2011  by Queen   1550818  \n",
       " 189                       ocean eyes  by Billie Eilish   1548432  \n",
       " 190       Psycho (feat. Ty Dolla $ign)  by Post Malone   1534031  \n",
       " 191                       All to Myself  by Dan + Shay   1531937  \n",
       " 192                          Soltera - Remix  by Lunay   1527459  \n",
       " 193                      Cruel Summer  by Taylor Swift   1527048  \n",
       " 194                             OFF THE RIP  by DaBaby   1519717  \n",
       " 195                                  BIG  by Young M.A   1516364  \n",
       " 196                 Call You Mine  by The Chainsmokers   1510081  \n",
       " 197  Meant to Be (feat. Florida Georgia Line)  by B...   1509005  \n",
       " 198       Hate Me (with Juice WRLD)  by Ellie Goulding   1508352  \n",
       " 199                          YOSEMITE  by Travis Scott   1502722  \n",
       " \n",
       " [200 rows x 5 columns]]"
      ]
     },
     "execution_count": 4,
     "metadata": {},
     "output_type": "execute_result"
    }
   ],
   "source": []
  },
  {
   "cell_type": "code",
   "execution_count": 7,
   "metadata": {},
   "outputs": [
    {
     "ename": "SyntaxError",
     "evalue": "invalid syntax (<ipython-input-7-1dcac2556529>, line 5)",
     "output_type": "error",
     "traceback": [
      "\u001b[1;36m  File \u001b[1;32m\"<ipython-input-7-1dcac2556529>\"\u001b[1;36m, line \u001b[1;32m5\u001b[0m\n\u001b[1;33m    for result in results:\u001b[0m\n\u001b[1;37m      ^\u001b[0m\n\u001b[1;31mSyntaxError\u001b[0m\u001b[1;31m:\u001b[0m invalid syntax\n"
     ]
    }
   ],
   "source": []
  },
  {
   "cell_type": "code",
   "execution_count": null,
   "metadata": {},
   "outputs": [],
   "source": []
  }
 ],
 "metadata": {
  "kernelspec": {
   "display_name": "Python 3",
   "language": "python",
   "name": "python3"
  },
  "language_info": {
   "codemirror_mode": {
    "name": "ipython",
    "version": 3
   },
   "file_extension": ".py",
   "mimetype": "text/x-python",
   "name": "python",
   "nbconvert_exporter": "python",
   "pygments_lexer": "ipython3",
   "version": "3.7.3"
  }
 },
 "nbformat": 4,
 "nbformat_minor": 2
}
