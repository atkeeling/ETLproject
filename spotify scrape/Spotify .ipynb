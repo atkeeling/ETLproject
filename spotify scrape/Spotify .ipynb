{
 "cells": [
  {
   "cell_type": "code",
   "execution_count": 12,
   "metadata": {},
   "outputs": [],
   "source": [
    "import pandas as pd "
   ]
  },
  {
   "cell_type": "code",
   "execution_count": 13,
   "metadata": {},
   "outputs": [],
   "source": [
    "spotify_path = \"spotify_csv_data.csv\""
   ]
  },
  {
   "cell_type": "code",
   "execution_count": 14,
   "metadata": {},
   "outputs": [
    {
     "data": {
      "text/html": [
       "<div>\n",
       "<style scoped>\n",
       "    .dataframe tbody tr th:only-of-type {\n",
       "        vertical-align: middle;\n",
       "    }\n",
       "\n",
       "    .dataframe tbody tr th {\n",
       "        vertical-align: top;\n",
       "    }\n",
       "\n",
       "    .dataframe thead th {\n",
       "        text-align: right;\n",
       "    }\n",
       "</style>\n",
       "<table border=\"1\" class=\"dataframe\">\n",
       "  <thead>\n",
       "    <tr style=\"text-align: right;\">\n",
       "      <th></th>\n",
       "      <th>spotify_rank</th>\n",
       "      <th>song_title</th>\n",
       "      <th>artist</th>\n",
       "      <th>spotify_streams</th>\n",
       "    </tr>\n",
       "  </thead>\n",
       "  <tbody>\n",
       "    <tr>\n",
       "      <th>0</th>\n",
       "      <td>1</td>\n",
       "      <td>HIGHEST IN THE ROOM</td>\n",
       "      <td>Travis Scott</td>\n",
       "      <td>20518547</td>\n",
       "    </tr>\n",
       "    <tr>\n",
       "      <th>1</th>\n",
       "      <td>2</td>\n",
       "      <td>10,000 Hours (with Justin Bieber)</td>\n",
       "      <td>Dan + Shay</td>\n",
       "      <td>11129577</td>\n",
       "    </tr>\n",
       "    <tr>\n",
       "      <th>2</th>\n",
       "      <td>3</td>\n",
       "      <td>Circles</td>\n",
       "      <td>Post Malone</td>\n",
       "      <td>10046611</td>\n",
       "    </tr>\n",
       "    <tr>\n",
       "      <th>3</th>\n",
       "      <td>4</td>\n",
       "      <td>Bandit (with YoungBoy Never Broke Again)</td>\n",
       "      <td>Juice WRLD</td>\n",
       "      <td>9652455</td>\n",
       "    </tr>\n",
       "    <tr>\n",
       "      <th>4</th>\n",
       "      <td>5</td>\n",
       "      <td>223's (feat. 9lokknine)</td>\n",
       "      <td>YNW Melly</td>\n",
       "      <td>7409895</td>\n",
       "    </tr>\n",
       "  </tbody>\n",
       "</table>\n",
       "</div>"
      ],
      "text/plain": [
       "   spotify_rank                                song_title        artist  \\\n",
       "0             1                       HIGHEST IN THE ROOM  Travis Scott   \n",
       "1             2         10,000 Hours (with Justin Bieber)    Dan + Shay   \n",
       "2             3                                   Circles   Post Malone   \n",
       "3             4  Bandit (with YoungBoy Never Broke Again)    Juice WRLD   \n",
       "4             5                   223's (feat. 9lokknine)     YNW Melly   \n",
       "\n",
       "   spotify_streams  \n",
       "0         20518547  \n",
       "1         11129577  \n",
       "2         10046611  \n",
       "3          9652455  \n",
       "4          7409895  "
      ]
     },
     "execution_count": 14,
     "metadata": {},
     "output_type": "execute_result"
    }
   ],
   "source": [
    "spotify_pd = pd.read_csv(spotify_path)\n",
    "spotify_pd.head()"
   ]
  }
 ],
 "metadata": {
  "kernelspec": {
   "display_name": "Python 3",
   "language": "python",
   "name": "python3"
  },
  "language_info": {
   "codemirror_mode": {
    "name": "ipython",
    "version": 3
   },
   "file_extension": ".py",
   "mimetype": "text/x-python",
   "name": "python",
   "nbconvert_exporter": "python",
   "pygments_lexer": "ipython3",
   "version": "3.7.3"
  }
 },
 "nbformat": 4,
 "nbformat_minor": 2
}
